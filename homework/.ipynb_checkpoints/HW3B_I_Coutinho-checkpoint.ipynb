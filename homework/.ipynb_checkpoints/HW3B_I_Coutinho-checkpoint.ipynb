{
 "cells": [
  {
   "cell_type": "markdown",
   "metadata": {},
   "source": [
    "**<font color='red'>Change the name from assignment_lastname to include YOUR last name</font>**. This will make sure that the assignment doesn't get overwritten when you do a ```git pull upstream master``` in class. "
   ]
  },
  {
   "cell_type": "markdown",
   "metadata": {},
   "source": [
    "# Homework 3B - the coding portion"
   ]
  },
  {
   "cell_type": "markdown",
   "metadata": {},
   "source": [
    "## Due: Friday, October 16, by 5pm"
   ]
  },
  {
   "cell_type": "markdown",
   "metadata": {},
   "source": [
    "Skills: numpy, basic python "
   ]
  },
  {
   "cell_type": "markdown",
   "metadata": {},
   "source": [
    "Turn in instructions:\n",
    "1. Before turning in your notebook, make sure you save it first using the floppy disk save icon or File -> save.\n",
    "2. Open a new terminal ```New -> Terminal```, cd into the directory where you worked on this homework. For most of you that should be ~/PreMAP2020/homework/\n",
    "3. To turn in your assignment, you need to “git push” your assignment to your github using the following commands. You’ll need to be inside the PreMAP2020 directory for this to work. (Not in your home directory.)\n",
    "```\n",
    "git add *\n",
    "git commit -m “<Include a message inside quotes: i.e. Finished HW 3B>”\n",
    "git push\n",
    "```"
   ]
  },
  {
   "cell_type": "markdown",
   "metadata": {},
   "source": [
    "Always start with your import statement! You will only need the package `numpy` for today's homework"
   ]
  },
  {
   "cell_type": "code",
   "execution_count": 151,
   "metadata": {},
   "outputs": [],
   "source": [
    "#We're going to be using numpy in this homework, so we need to import it first.\n",
    "import numpy as np\n",
    "\n",
    "#The next command makes sure that when I try to display images they show to the notebook screen\n",
    "%matplotlib inline "
   ]
  },
  {
   "cell_type": "markdown",
   "metadata": {},
   "source": [
    "### The exercises in this coding assignment will be based on the article you read for Homework 3A. You can find a link to the article [here](https://astrobites.org/2018/07/18/best-exoplanet-destinations-for-mountain-climbers/)."
   ]
  },
  {
   "cell_type": "markdown",
   "metadata": {},
   "source": [
    "**Before you get started:**\n",
    "Remember that you have many tools to help you out with coding! First, please reference the notebooks we've been working through in class. Great coders copy their old code ALL THE TIME, it is a great resource! You should also make Google your best friend for code questions. Don't hesitate to google your questions. Lastly, you should get familiar with the built in documentation for python and python packages such as numpy. You can access help pages by typing the function name, followed by a ? in a coding cell and then executing it."
   ]
  },
  {
   "cell_type": "markdown",
   "metadata": {},
   "source": [
    "**1)**\n",
    "Use the `print` command to print the title of the astrobites article to the screen."
   ]
  },
  {
   "cell_type": "code",
   "execution_count": 152,
   "metadata": {},
   "outputs": [
    {
     "name": "stdout",
     "output_type": "stream",
     "text": [
      "Best exoplanet destinations for mountain climbers\n"
     ]
    }
   ],
   "source": [
    "print('Best exoplanet destinations for mountain climbers')"
   ]
  },
  {
   "cell_type": "markdown",
   "metadata": {},
   "source": [
    "Using Figure 1 from the paper as a reference, we're going to use Python to do some calculations for us:"
   ]
  },
  {
   "cell_type": "code",
   "execution_count": 153,
   "metadata": {
    "scrolled": false
   },
   "outputs": [],
   "source": [
    "#IGNORE THIS CELL - I'm just using it to display Figure 1 from the paper.\n",
    "from IPython.display import Image\n",
    "from IPython.display import display\n",
    "#lc = Image(filename='/astro/users/mlazz/PreMAP2019/homework/data/exomountain_trainsit.png') \n",
    "#display(lc)"
   ]
  },
  {
   "cell_type": "markdown",
   "metadata": {},
   "source": [
    "**2)**\n",
    "Create a variable called `delta_sphere` and a variable called `delta_block`. Assuming that the bottom of the graph is 0, choose a reasonable value for both variables between 0 and 1. "
   ]
  },
  {
   "cell_type": "code",
   "execution_count": 154,
   "metadata": {},
   "outputs": [],
   "source": [
    "delta_sphere = 0.4\n",
    "delta_block = 0.2"
   ]
  },
  {
   "cell_type": "markdown",
   "metadata": {},
   "source": [
    "**3)** How much larger is `delta_sphere` than `delta_block`?"
   ]
  },
  {
   "cell_type": "code",
   "execution_count": 155,
   "metadata": {},
   "outputs": [
    {
     "name": "stdout",
     "output_type": "stream",
     "text": [
      "It is 2.0 times bigger\n"
     ]
    }
   ],
   "source": [
    "print (\"It is\",delta_sphere/delta_block, \"times bigger\")"
   ]
  },
  {
   "cell_type": "markdown",
   "metadata": {},
   "source": [
    "**4)**\n",
    "From the paper, we know that the transit depth, $\\delta$ is related to the cross-sectional area of the planet, A, and the radius of the host star, R, using the equation: $\\delta = \\frac{A}{\\pi R^{2}}$. \n",
    "\n",
    "Using your value for `delta_sphere` above, if the cross-sectional area of the planet is 0.5, what is the radius of the host star? Print the radius to the screen. *Hint: the value of $\\pi$ is built into `numpy`, you can use it by typing `np.pi`.*"
   ]
  },
  {
   "cell_type": "code",
   "execution_count": 156,
   "metadata": {},
   "outputs": [
    {
     "name": "stdout",
     "output_type": "stream",
     "text": [
      "0.252313252202016\n"
     ]
    }
   ],
   "source": [
    "A = 0.5\n",
    "R = np.sqrt(A/np.pi*(delta_sphere))\n",
    "print(R)"
   ]
  },
  {
   "cell_type": "markdown",
   "metadata": {},
   "source": [
    "**5)**\n",
    "Let's say you had a whole bunch of these observations and wanted to calculate the radii of a bunch of stars. Create a numpy array called `areas` that contains 10 cross-sectional areas evenly spaced out between 0.1 and 1 (including both 0.1 and 1). Print your `areas` array to the screen. Calculate the radius of the host star for each planet with an area in the `areas` array. Create an array called `radii` that contains the radius of each of thse host stars and print it to the screen."
   ]
  },
  {
   "cell_type": "code",
   "execution_count": 157,
   "metadata": {},
   "outputs": [],
   "source": [
    "areas = np.arange(.1,1.1,.1)"
   ]
  },
  {
   "cell_type": "code",
   "execution_count": 158,
   "metadata": {},
   "outputs": [
    {
     "name": "stdout",
     "output_type": "stream",
     "text": [
      "[0.1 0.2 0.3 0.4 0.5 0.6 0.7 0.8 0.9 1. ]\n"
     ]
    }
   ],
   "source": [
    "print(areas)"
   ]
  },
  {
   "cell_type": "code",
   "execution_count": 159,
   "metadata": {},
   "outputs": [
    {
     "name": "stdout",
     "output_type": "stream",
     "text": [
      "[0.28209479 0.39894228 0.48860251 0.56418958 0.63078313 0.6909883\n",
      " 0.74635267 0.79788456 0.84628438 0.89206206]\n"
     ]
    }
   ],
   "source": [
    "radii = np.sqrt((areas)/(np.pi*(delta_sphere)))\n",
    "print(radii)"
   ]
  },
  {
   "cell_type": "markdown",
   "metadata": {},
   "source": [
    "**6)** Let's do some math with these numbers, just to test out some of the handy calculations we can do with python and the numpy package. Raise every value of the `radii` array to the 2nd power. Trick - do this two different ways! You will soon learn that there are always multiple ways to do something with Python, and usually more than one good way to do it! You can raise an array to a power using just normal python math operators (+, -, $*$, $**$, etc.) and with the built in `numpy` function `np.power`. Please show that you can do it both ways in the empty cell below."
   ]
  },
  {
   "cell_type": "markdown",
   "metadata": {},
   "source": [
    "Helpful hint, if you aren't sure what arguments the `np.power` function takes, read its help docs by executing the cell below."
   ]
  },
  {
   "cell_type": "code",
   "execution_count": 160,
   "metadata": {},
   "outputs": [
    {
     "data": {
      "text/plain": [
       "array([0.07957747, 0.15915494, 0.23873241, 0.31830989, 0.39788736,\n",
       "       0.47746483, 0.5570423 , 0.63661977, 0.71619724, 0.79577472])"
      ]
     },
     "execution_count": 160,
     "metadata": {},
     "output_type": "execute_result"
    }
   ],
   "source": [
    "np.power(radii,2)"
   ]
  },
  {
   "cell_type": "code",
   "execution_count": 161,
   "metadata": {},
   "outputs": [
    {
     "data": {
      "text/plain": [
       "array([0.07957747, 0.15915494, 0.23873241, 0.31830989, 0.39788736,\n",
       "       0.47746483, 0.5570423 , 0.63661977, 0.71619724, 0.79577472])"
      ]
     },
     "execution_count": 161,
     "metadata": {},
     "output_type": "execute_result"
    }
   ],
   "source": [
    "radii**2"
   ]
  },
  {
   "cell_type": "markdown",
   "metadata": {},
   "source": [
    "**7)** Sum up the radius of each host star in the `radii` array."
   ]
  },
  {
   "cell_type": "code",
   "execution_count": 162,
   "metadata": {},
   "outputs": [
    {
     "data": {
      "text/plain": [
       "6.338184256454815"
      ]
     },
     "execution_count": 162,
     "metadata": {},
     "output_type": "execute_result"
    }
   ],
   "source": [
    "np.sum(radii)"
   ]
  },
  {
   "cell_type": "markdown",
   "metadata": {},
   "source": [
    "**8)** Subtract 0.5 from each value in the `radii` array."
   ]
  },
  {
   "cell_type": "code",
   "execution_count": 163,
   "metadata": {},
   "outputs": [
    {
     "data": {
      "text/plain": [
       "array([-0.21790521, -0.10105772, -0.01139749,  0.06418958,  0.13078313,\n",
       "        0.1909883 ,  0.24635267,  0.29788456,  0.34628438,  0.39206206])"
      ]
     },
     "execution_count": 163,
     "metadata": {},
     "output_type": "execute_result"
    }
   ],
   "source": [
    "np.subtract(radii,.5)"
   ]
  },
  {
   "cell_type": "markdown",
   "metadata": {},
   "source": [
    "**9)** Divide each value of the radii array by 2."
   ]
  },
  {
   "cell_type": "code",
   "execution_count": 164,
   "metadata": {},
   "outputs": [
    {
     "data": {
      "text/plain": [
       "array([0.1410474 , 0.19947114, 0.24430126, 0.28209479, 0.31539157,\n",
       "       0.34549415, 0.37317633, 0.39894228, 0.42314219, 0.44603103])"
      ]
     },
     "execution_count": 164,
     "metadata": {},
     "output_type": "execute_result"
    }
   ],
   "source": [
    "radii/2"
   ]
  },
  {
   "cell_type": "markdown",
   "metadata": {},
   "source": [
    "**10)** Let's create a new array of star radii called `new_radii`. The `new_radii` array should contain all multiples of 3 between 0 and 999, including 999. Print `new_radii` to the screen."
   ]
  },
  {
   "cell_type": "code",
   "execution_count": 165,
   "metadata": {},
   "outputs": [
    {
     "name": "stdout",
     "output_type": "stream",
     "text": [
      "[  0   3   6   9  12  15  18  21  24  27  30  33  36  39  42  45  48  51\n",
      "  54  57  60  63  66  69  72  75  78  81  84  87  90  93  96  99 102 105\n",
      " 108 111 114 117 120 123 126 129 132 135 138 141 144 147 150 153 156 159\n",
      " 162 165 168 171 174 177 180 183 186 189 192 195 198 201 204 207 210 213\n",
      " 216 219 222 225 228 231 234 237 240 243 246 249 252 255 258 261 264 267\n",
      " 270 273 276 279 282 285 288 291 294 297 300 303 306 309 312 315 318 321\n",
      " 324 327 330 333 336 339 342 345 348 351 354 357 360 363 366 369 372 375\n",
      " 378 381 384 387 390 393 396 399 402 405 408 411 414 417 420 423 426 429\n",
      " 432 435 438 441 444 447 450 453 456 459 462 465 468 471 474 477 480 483\n",
      " 486 489 492 495 498 501 504 507 510 513 516 519 522 525 528 531 534 537\n",
      " 540 543 546 549 552 555 558 561 564 567 570 573 576 579 582 585 588 591\n",
      " 594 597 600 603 606 609 612 615 618 621 624 627 630 633 636 639 642 645\n",
      " 648 651 654 657 660 663 666 669 672 675 678 681 684 687 690 693 696 699\n",
      " 702 705 708 711 714 717 720 723 726 729 732 735 738 741 744 747 750 753\n",
      " 756 759 762 765 768 771 774 777 780 783 786 789 792 795 798 801 804 807\n",
      " 810 813 816 819 822 825 828 831 834 837 840 843 846 849 852 855 858 861\n",
      " 864 867 870 873 876 879 882 885 888 891 894 897 900 903 906 909 912 915\n",
      " 918 921 924 927 930 933 936 939 942 945 948 951 954 957 960 963 966 969\n",
      " 972 975 978 981 984 987 990 993 996 999]\n"
     ]
    }
   ],
   "source": [
    "new_radii = np.arange(0,1001,3)\n",
    "print (new_radii)"
   ]
  },
  {
   "cell_type": "markdown",
   "metadata": {},
   "source": [
    "**11)** Calculate the cross sectional area of the planet for each of the host stars in the `new_radii` array. Save these values in an array called `new_areas`."
   ]
  },
  {
   "cell_type": "code",
   "execution_count": 166,
   "metadata": {
    "scrolled": false
   },
   "outputs": [],
   "source": [
    "new_areas = np.pi*((new_radii)**2)"
   ]
  },
  {
   "cell_type": "markdown",
   "metadata": {},
   "source": [
    "**12)** You might notice that when you print out `new_areas` that the values are listed in scientific notation. This is a useful feature of Python, especially when working with big numbers like we do in astronomy. Print the 5th element of the `new_areas` array to the screen. *Hint: remember that Python indexes starting with 0."
   ]
  },
  {
   "cell_type": "code",
   "execution_count": 167,
   "metadata": {},
   "outputs": [
    {
     "name": "stdout",
     "output_type": "stream",
     "text": [
      "1017.8760197630929\n"
     ]
    }
   ],
   "source": [
    "print(new_areas[6])"
   ]
  },
  {
   "cell_type": "markdown",
   "metadata": {},
   "source": [
    "**13)** What is the sum of the cross sectional areas of all of the planets in the `new_areas` array?"
   ]
  },
  {
   "cell_type": "code",
   "execution_count": 168,
   "metadata": {},
   "outputs": [
    {
     "data": {
      "text/plain": [
       "349588925.2266227"
      ]
     },
     "execution_count": 168,
     "metadata": {},
     "output_type": "execute_result"
    }
   ],
   "source": [
    "np.sum(new_areas)"
   ]
  },
  {
   "cell_type": "markdown",
   "metadata": {},
   "source": [
    "**14)** What is the sum of the radii of all of the stars in the `new_radii` array with a radius of greater than 400?"
   ]
  },
  {
   "cell_type": "code",
   "execution_count": 169,
   "metadata": {},
   "outputs": [
    {
     "data": {
      "text/plain": [
       "200"
      ]
     },
     "execution_count": 169,
     "metadata": {},
     "output_type": "execute_result"
    }
   ],
   "source": [
    "largerThanRadii = new_radii > 400\n",
    "#intiall tried to this via an if then statment then realised that was too messy so googled it and ralsied i was being dumb :p\n",
    "np.sum(largerThanRadii)"
   ]
  },
  {
   "cell_type": "markdown",
   "metadata": {},
   "source": [
    "**15)** How many of the values in `new_radii` are even? Use Exercise 5 (putting it all together) from the `numpy` lesson as a reference."
   ]
  },
  {
   "cell_type": "code",
   "execution_count": 170,
   "metadata": {},
   "outputs": [
    {
     "name": "stdout",
     "output_type": "stream",
     "text": [
      "(array([  0,   2,   4,   6,   8,  10,  12,  14,  16,  18,  20,  22,  24,\n",
      "        26,  28,  30,  32,  34,  36,  38,  40,  42,  44,  46,  48,  50,\n",
      "        52,  54,  56,  58,  60,  62,  64,  66,  68,  70,  72,  74,  76,\n",
      "        78,  80,  82,  84,  86,  88,  90,  92,  94,  96,  98, 100, 102,\n",
      "       104, 106, 108, 110, 112, 114, 116, 118, 120, 122, 124, 126, 128,\n",
      "       130, 132, 134, 136, 138, 140, 142, 144, 146, 148, 150, 152, 154,\n",
      "       156, 158, 160, 162, 164, 166, 168, 170, 172, 174, 176, 178, 180,\n",
      "       182, 184, 186, 188, 190, 192, 194, 196, 198, 200, 202, 204, 206,\n",
      "       208, 210, 212, 214, 216, 218, 220, 222, 224, 226, 228, 230, 232,\n",
      "       234, 236, 238, 240, 242, 244, 246, 248, 250, 252, 254, 256, 258,\n",
      "       260, 262, 264, 266, 268, 270, 272, 274, 276, 278, 280, 282, 284,\n",
      "       286, 288, 290, 292, 294, 296, 298, 300, 302, 304, 306, 308, 310,\n",
      "       312, 314, 316, 318, 320, 322, 324, 326, 328, 330, 332]),)\n"
     ]
    }
   ],
   "source": [
    "evenRadii = np.where(new_radii%2 == 0)\n",
    "print(evenRadii)"
   ]
  },
  {
   "cell_type": "code",
   "execution_count": 171,
   "metadata": {},
   "outputs": [],
   "source": [
    "#IGNORE THIS CELL - just displaying Figure 2\n",
    "#bumpiness = #Image(filename='/astro/users/mlazz/PreMAP2019/homework/data/bumpiness_fig2.png') \n",
    "#display(bumpiness)"
   ]
  },
  {
   "cell_type": "markdown",
   "metadata": {},
   "source": [
    "**16)** Define a variable `r_star` with a value of 0.1 that defines the 0.1 solar radius M-dwarf star used as a reference in this paper. Create an array called `transit_scatter` that contains 100 values between 0.2 and 1.4 describing the transit scatter of 100 fictional planets. \n",
    "\n",
    "Use the equation printed on the figure to determine the bumpiness of each of these planets. Save the bumpiness of each planet into an array called `bumpiness`. Print `bumpiness` to the screen."
   ]
  },
  {
   "cell_type": "code",
   "execution_count": 172,
   "metadata": {},
   "outputs": [
    {
     "name": "stdout",
     "output_type": "stream",
     "text": [
      "bumpiness equation version 1: [ 973.5134    994.469804 1015.426208 1036.382612 1057.339016 1078.29542\n",
      " 1099.251824 1120.208228 1141.164632 1162.121036 1183.07744  1204.033844\n",
      " 1224.990248 1245.946652 1266.903056 1287.85946  1308.815864 1329.772268\n",
      " 1350.728672 1371.685076 1392.64148  1413.597884 1434.554288 1455.510692\n",
      " 1476.467096 1497.4235   1518.379904 1539.336308 1560.292712 1581.249116\n",
      " 1602.20552  1623.161924 1644.118328 1665.074732 1686.031136 1706.98754\n",
      " 1727.943944 1748.900348 1769.856752 1790.813156 1811.76956  1832.725964\n",
      " 1853.682368 1874.638772 1895.595176 1916.55158  1937.507984 1958.464388\n",
      " 1979.420792 2000.377196 2021.3336   2042.290004 2063.246408 2084.202812\n",
      " 2105.159216 2126.11562  2147.072024 2168.028428 2188.984832 2209.941236\n",
      " 2230.89764  2251.854044 2272.810448 2293.766852 2314.723256 2335.67966\n",
      " 2356.636064 2377.592468 2398.548872 2419.505276 2440.46168  2461.418084\n",
      " 2482.374488 2503.330892 2524.287296 2545.2437   2566.200104 2587.156508\n",
      " 2608.112912 2629.069316 2650.02572  2670.982124 2691.938528 2712.894932\n",
      " 2733.851336 2754.80774  2775.764144 2796.720548 2817.676952 2838.633356\n",
      " 2859.58976  2880.546164 2901.502568 2922.458972 2943.415376 2964.37178\n",
      " 2985.328184 3006.284588 3027.240992 3048.197396]\n",
      "bumpiness eqution version 2: [638.63320754 639.49679999 640.36039245 641.2239849  642.08757735\n",
      " 642.9511698  643.81476226 644.67835471 645.54194716 646.40553961\n",
      " 647.26913206 648.13272452 648.99631697 649.85990942 650.72350187\n",
      " 651.58709433 652.45068678 653.31427923 654.17787168 655.04146414\n",
      " 655.90505659 656.76864904 657.63224149 658.49583395 659.3594264\n",
      " 660.22301885 661.0866113  661.95020376 662.81379621 663.67738866\n",
      " 664.54098111 665.40457357 666.26816602 667.13175847 667.99535092\n",
      " 668.85894338 669.72253583 670.58612828 671.44972073 672.31331319\n",
      " 673.17690564 674.04049809 674.90409054 675.767683   676.63127545\n",
      " 677.4948679  678.35846035 679.22205281 680.08564526 680.94923771\n",
      " 681.81283016 682.67642261 683.54001507 684.40360752 685.26719997\n",
      " 686.13079242 686.99438488 687.85797733 688.72156978 689.58516223\n",
      " 690.44875469 691.31234714 692.17593959 693.03953204 693.9031245\n",
      " 694.76671695 695.6303094  696.49390185 697.35749431 698.22108676\n",
      " 699.08467921 699.94827166 700.81186412 701.67545657 702.53904902\n",
      " 703.40264147 704.26623393 705.12982638 705.99341883 706.85701128\n",
      " 707.72060374 708.58419619 709.44778864 710.31138109 711.17497355\n",
      " 712.038566   712.90215845 713.7657509  714.62934335 715.49293581\n",
      " 716.35652826 717.22012071 718.08371316 718.94730562 719.81089807\n",
      " 720.67449052 721.53808297 722.40167543 723.26526788 724.12886033]\n"
     ]
    }
   ],
   "source": [
    "# not sure how to define R_star so did two versions\n",
    "r_star1 = .1\n",
    "mdwarfRadius= 0.203\n",
    "r_star2 = .1*mdwarfRadius\n",
    "transmit_scatter = np.arange(0.2,1.4,.012)\n",
    "\n",
    "bumpiness1 = 624.24 + ((r_star1**2)*174636.7*transmit_scatter)\n",
    "bumpiness2 = 624.24 + ((r_star2**2)*174636.7*transmit_scatter)\n",
    "#then up here i print both versions\n",
    "print (\"bumpiness equation version 1:\", bumpiness1)\n",
    "print (\"bumpiness eqution version 2:\", bumpiness2)"
   ]
  },
  {
   "cell_type": "markdown",
   "metadata": {},
   "source": [
    "**17)** The height of Mt. Everest is 8848 meters. What would the transit depth of a planet need to be in order for its `bumpiness` to be equal to the height of Mt. Everest?"
   ]
  },
  {
   "cell_type": "code",
   "execution_count": 173,
   "metadata": {},
   "outputs": [],
   "source": [
    "#4.70906?"
   ]
  },
  {
   "cell_type": "markdown",
   "metadata": {},
   "source": [
    "**18)** What is the mean bumpiness of your planets? What is the standard deviation of the bumpiness? What is the median? *Hint: there are functions in numpy for all of these google it if you don't remember!*"
   ]
  },
  {
   "cell_type": "code",
   "execution_count": 174,
   "metadata": {},
   "outputs": [
    {
     "name": "stdout",
     "output_type": "stream",
     "text": [
      "mean 1: 2010.8553980000015 mean 2: 681.3810339361821\n"
     ]
    }
   ],
   "source": [
    "mean1 = np.mean(bumpiness1)\n",
    "mean2 = np.mean(bumpiness2)\n",
    "#since I had two definition for bumpiness\n",
    "print (\"mean 1:\",mean1,\"mean 2:\", mean2)"
   ]
  },
  {
   "cell_type": "code",
   "execution_count": 175,
   "metadata": {},
   "outputs": [
    {
     "name": "stdout",
     "output_type": "stream",
     "text": [
      "median 1: 2010.8553980000013 median 2: 681.3810339361821\n"
     ]
    }
   ],
   "source": [
    "median1 = np.median(bumpiness1)\n",
    "median2 = np.median(bumpiness2)\n",
    "#since I had two definition for bumpiness\n",
    "print (\"median 1:\",median1,\"median 2:\", median2)"
   ]
  },
  {
   "cell_type": "code",
   "execution_count": 176,
   "metadata": {},
   "outputs": [
    {
     "name": "stdout",
     "output_type": "stream",
     "text": [
      "Standard deviation on Bumpiness1: 2010.8553980000013 Standard deviation on Bumpiness1: 681.3810339361821\n"
     ]
    }
   ],
   "source": [
    "stdDev1 = np.std(bumpiness1)\n",
    "stdDev2 = np.std(bumpiness2)\n",
    "print (\"Standard deviation on Bumpiness1:\",median1,\"Standard deviation on Bumpiness1:\", median2)"
   ]
  },
  {
   "cell_type": "markdown",
   "metadata": {},
   "source": [
    "**19)** Let's say, more realistically, we changed the radius of the star in our bumpiness diagram to the radius of the Sun, R = 1 $R_{*}$. Using the value of the transit depth scatter from Figure 2 for both the wet and dry Earth, what would be the bumpiness in meters of the wet and the dry Earth?"
   ]
  },
  {
   "cell_type": "code",
   "execution_count": null,
   "metadata": {},
   "outputs": [],
   "source": []
  },
  {
   "cell_type": "markdown",
   "metadata": {},
   "source": [
    "**20)** How do these new bumpiness measurements compare to Mt. Everest? "
   ]
  },
  {
   "cell_type": "markdown",
   "metadata": {},
   "source": [
    "Write your answer here in this markdown cell:\n"
   ]
  },
  {
   "cell_type": "code",
   "execution_count": null,
   "metadata": {},
   "outputs": [],
   "source": []
  }
 ],
 "metadata": {
  "kernelspec": {
   "display_name": "Python 3",
   "language": "python",
   "name": "python3"
  },
  "language_info": {
   "codemirror_mode": {
    "name": "ipython",
    "version": 3
   },
   "file_extension": ".py",
   "mimetype": "text/x-python",
   "name": "python",
   "nbconvert_exporter": "python",
   "pygments_lexer": "ipython3",
   "version": "3.7.8"
  }
 },
 "nbformat": 4,
 "nbformat_minor": 2
}
